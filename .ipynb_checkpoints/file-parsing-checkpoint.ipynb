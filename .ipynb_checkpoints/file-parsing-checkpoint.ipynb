{
 "cells": [
  {
   "cell_type": "markdown",
   "metadata": {},
   "source": [
    "## File Parsing Lesson"
   ]
  },
  {
   "cell_type": "code",
   "execution_count": 1,
   "metadata": {},
   "outputs": [
    {
     "name": "stdout",
     "output_type": "stream",
     "text": [
      " Volume in drive C is OS\n",
      " Volume Serial Number is E8E6-7383\n",
      "\n",
      " Directory of C:\\Users\\Mary\\Desktop\\cms-workshop\n",
      "\n",
      "05/15/2019  02:03 PM    <DIR>          .\n",
      "05/15/2019  02:03 PM    <DIR>          ..\n",
      "05/15/2019  01:11 PM    <DIR>          .ipynb_checkpoints\n",
      "05/15/2019  01:24 PM    <DIR>          data\n",
      "05/15/2019  02:03 PM             3,767 file-parsing.ipynb\n",
      "05/15/2019  01:02 PM             7,665 MolSSI.ipynb\n",
      "05/15/2019  01:01 PM             7,476 Untitled-Copy1.ipynb\n",
      "               3 File(s)         18,908 bytes\n",
      "               4 Dir(s)  811,380,367,360 bytes free\n"
     ]
    }
   ],
   "source": [
    "ls"
   ]
  },
  {
   "cell_type": "code",
   "execution_count": 2,
   "metadata": {},
   "outputs": [
    {
     "data": {
      "text/plain": [
       "'C:\\\\Users\\\\Mary\\\\Desktop\\\\cms-workshop'"
      ]
     },
     "execution_count": 2,
     "metadata": {},
     "output_type": "execute_result"
    }
   ],
   "source": [
    "pwd"
   ]
  },
  {
   "cell_type": "code",
   "execution_count": 3,
   "metadata": {},
   "outputs": [],
   "source": [
    "import os"
   ]
  },
  {
   "cell_type": "code",
   "execution_count": 6,
   "metadata": {},
   "outputs": [
    {
     "name": "stdout",
     "output_type": "stream",
     "text": [
      "data\\outfiles\\ethanol.out\n"
     ]
    }
   ],
   "source": [
    "ethanol_file = os.path.join('data','outfiles','ethanol.out')\n",
    "print(ethanol_file)"
   ]
  },
  {
   "cell_type": "code",
   "execution_count": 7,
   "metadata": {},
   "outputs": [],
   "source": [
    "outfile = open(ethanol_file,'r')\n",
    "data = outfile.readlines()"
   ]
  },
  {
   "cell_type": "markdown",
   "metadata": {},
   "source": [
    "## Parsing Multiple Files"
   ]
  },
  {
   "cell_type": "code",
   "execution_count": 8,
   "metadata": {},
   "outputs": [
    {
     "name": "stdout",
     "output_type": "stream",
     "text": [
      "data\\outfiles\\*.out\n"
     ]
    }
   ],
   "source": [
    "file_location = os.path.join('data', 'outfiles', '*.out')\n",
    "print(file_location)"
   ]
  },
  {
   "cell_type": "code",
   "execution_count": 9,
   "metadata": {},
   "outputs": [],
   "source": [
    "import glob"
   ]
  },
  {
   "cell_type": "code",
   "execution_count": 10,
   "metadata": {},
   "outputs": [
    {
     "name": "stdout",
     "output_type": "stream",
     "text": [
      "['data\\\\outfiles\\\\butanol.out', 'data\\\\outfiles\\\\decanol.out', 'data\\\\outfiles\\\\ethanol.out', 'data\\\\outfiles\\\\heptanol.out', 'data\\\\outfiles\\\\hexanol.out', 'data\\\\outfiles\\\\methanol.out', 'data\\\\outfiles\\\\nonanol.out', 'data\\\\outfiles\\\\octanol.out', 'data\\\\outfiles\\\\pentanol.out', 'data\\\\outfiles\\\\propanol.out']\n"
     ]
    }
   ],
   "source": [
    "filenames = glob.glob(file_location)\n",
    "print(filenames)"
   ]
  },
  {
   "cell_type": "code",
   "execution_count": 11,
   "metadata": {},
   "outputs": [
    {
     "name": "stdout",
     "output_type": "stream",
     "text": [
      "-232.1655798347283\n",
      "-466.3836241400086\n",
      "-154.09130176573018\n",
      "-349.27397687072676\n",
      "-310.2385332251633\n",
      "-115.04800861868374\n",
      "-427.3465180082815\n",
      "-388.3110864554743\n",
      "-271.20138119895074\n",
      "-193.12836249728798\n"
     ]
    }
   ],
   "source": [
    "for f in filenames:\n",
    "    outfile = open(f, 'r')\n",
    "    data = outfile.readlines()\n",
    "    outfile.close\n",
    "    for line in data:\n",
    "        if 'Final Energy' in line:\n",
    "            energy_line = line\n",
    "            words = energy_line.split()\n",
    "            energy = float(words[3])\n",
    "            print (energy)"
   ]
  },
  {
   "cell_type": "code",
   "execution_count": 12,
   "metadata": {},
   "outputs": [
    {
     "name": "stdout",
     "output_type": "stream",
     "text": [
      "data\\outfiles\\butanol.out\n"
     ]
    }
   ],
   "source": [
    "first_file = filenames[0]\n",
    "print(first_file)"
   ]
  },
  {
   "cell_type": "code",
   "execution_count": 14,
   "metadata": {},
   "outputs": [
    {
     "name": "stdout",
     "output_type": "stream",
     "text": [
      "butanol.out\n"
     ]
    }
   ],
   "source": [
    "file_name = os.path.basename(first_file)\n",
    "print(file_name)"
   ]
  },
  {
   "cell_type": "code",
   "execution_count": 15,
   "metadata": {},
   "outputs": [
    {
     "name": "stdout",
     "output_type": "stream",
     "text": [
      "['butanol', 'out']\n"
     ]
    }
   ],
   "source": [
    "name = file_name.split('.')\n",
    "print(name)"
   ]
  },
  {
   "cell_type": "code",
   "execution_count": 16,
   "metadata": {},
   "outputs": [
    {
     "data": {
      "text/plain": [
       "'butanol'"
      ]
     },
     "execution_count": 16,
     "metadata": {},
     "output_type": "execute_result"
    }
   ],
   "source": [
    "name[0]"
   ]
  },
  {
   "cell_type": "code",
   "execution_count": 17,
   "metadata": {},
   "outputs": [],
   "source": [
    "molecule_name = name[0]"
   ]
  },
  {
   "cell_type": "code",
   "execution_count": 18,
   "metadata": {},
   "outputs": [
    {
     "name": "stdout",
     "output_type": "stream",
     "text": [
      "butanol\n"
     ]
    }
   ],
   "source": [
    "print(molecule_name)"
   ]
  },
  {
   "cell_type": "code",
   "execution_count": 22,
   "metadata": {},
   "outputs": [],
   "source": [
    "datafile = open('energies.txt', 'w+')\n",
    "\n",
    "# Go through all of the files\n",
    "for f in filenames:\n",
    "    #Get the molecule name\n",
    "    file_name = os.path.basename(f)\n",
    "    split_filename = file_name.split('.')\n",
    "    molecule_name = split_filename [0]\n",
    "    \n",
    "    outfile = open(f, 'r')\n",
    "    data = outfile.readlines()\n",
    "    outfile.close\n",
    "    # Go through each line of one file\n",
    "    for line in data:\n",
    "        if 'Final Energy' in line:\n",
    "            energy_line = line\n",
    "            words = energy_line.split()\n",
    "            energy = float(words[3])\n",
    "            datafile.write(F'{molecule_name} \\t {energy} \\n')\n",
    "datafile.close()"
   ]
  },
  {
   "cell_type": "code",
   "execution_count": null,
   "metadata": {},
   "outputs": [],
   "source": []
  }
 ],
 "metadata": {
  "kernelspec": {
   "display_name": "Python 3",
   "language": "python",
   "name": "python3"
  },
  "language_info": {
   "codemirror_mode": {
    "name": "ipython",
    "version": 3
   },
   "file_extension": ".py",
   "mimetype": "text/x-python",
   "name": "python",
   "nbconvert_exporter": "python",
   "pygments_lexer": "ipython3",
   "version": "3.7.3"
  }
 },
 "nbformat": 4,
 "nbformat_minor": 2
}
